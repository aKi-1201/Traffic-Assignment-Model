{
 "cells": [
  {
   "cell_type": "code",
   "execution_count": 12,
   "id": "a418d760",
   "metadata": {},
   "outputs": [
    {
     "name": "stdout",
     "output_type": "stream",
     "text": [
      "【SL8】 \n",
      "    UE flow 往南/東 = 26027, diff = 0.09%\n",
      "    UE flow 往北/西 = 32703, diff = -20.98%\n",
      "   \n",
      "【SL1】 \n",
      "    UE flow 往南/東 = 49780, diff = 16.63%\n",
      "    UE flow 往北/西 = 51207, diff = 20.88%\n",
      "   \n",
      "【SL6】 \n",
      "    UE flow 往南/東 = 5182, diff = -7.23%\n",
      "    UE flow 往北/西 = 3733, diff = -1.18%\n",
      "   \n",
      "【SL7】 \n",
      "    UE flow 往南/東 = 41416, diff = 4.41%\n",
      "    UE flow 往北/西 = 27856, diff = 17.87%\n",
      "   \n",
      "【SL5】 \n",
      "    UE flow 往南/東 = 8273, diff = -8.54%\n",
      "    UE flow 往北/西 = 16986, diff = -5.69%\n",
      "   \n"
     ]
    }
   ],
   "source": [
    "#####設定讀取資料的年份與時段#####\n",
    "\n",
    "year = 104    #110年或104年\n",
    "rush_hour = \"晨峰\"    #晨峰或昏峰\n",
    "\n",
    "################################\n",
    "\n",
    "import pandas as pd\n",
    "\n",
    "df= pd.read_excel(\"TRTS-4S屏柵線.xlsx\", sheet_name=None)\n",
    "sheet1 = df[\"節點編號\"]\n",
    "real_flow = df[\"實際流量\"]\n",
    "real_flow = real_flow.set_index(\"group\")\n",
    "\n",
    "\n",
    "ue_results = pd.read_csv(f\"{year}{rush_hour}_UE_results.dat\", sep=\"\\t\")\n",
    "ue_results.rename(columns={\"tailNode\": \"A\", \"headNode\": \"B\"}, inplace=True)\n",
    "\n",
    "ue_results[\"link_name\"] = ue_results.apply(lambda row: f\"{int(row['A'])}_{int(row['B'])}\", axis=1)\n",
    "\n",
    "#look up UE_flow in ue_results to add a new column to sheet1 and sheet2\n",
    "#for sheet2, we need to find the corresponding link name for A1, B1 and A2, B2\n",
    "#that is, there are two link to be found for each row in sheet2\n",
    "#then we need to add up the two link's UE_flow to get the total flow for this row\n",
    "#so that we can compare with AM flow\n",
    "sheet1[\"link_name1\"] = sheet1.apply(lambda row: f\"{int(row['A1'])}_{int(row['B1'])}\", axis=1)\n",
    "sheet1[\"link_name2\"] = sheet1.apply(lambda row: f\"{int(row['A2'])}_{int(row['B2'])}\", axis=1)\n",
    "sheet1 = sheet1.merge(ue_results[[\"link_name\", \"UE_flow\", \"capacity\"]], left_on=\"link_name1\", right_on=\"link_name\", how=\"left\")\n",
    "sheet1 = sheet1.merge(ue_results[[\"link_name\", \"UE_flow\", \"capacity\"]], left_on=\"link_name2\", right_on=\"link_name\", how=\"left\", suffixes=('_1', '_2'))\n",
    "#calculate the total flow and capacity for this row\n",
    "\n",
    "#reserve the link,AM,UE_flow\n",
    "sheet1 = sheet1[[\"group\",\"link\", \"UE_flow_1\", \"UE_flow_2\"]]\n",
    "\n",
    "group_names = sheet1['group'].unique()\n",
    "groups = {i: {'UE_flow_1': 0, 'UE_flow_2': 0} for i in group_names}\n",
    "for index, row in sheet1.iterrows():\n",
    "    group = row['group']\n",
    "    groups[group]['UE_flow_1'] += row['UE_flow_1']\n",
    "    groups[group]['UE_flow_2'] += row['UE_flow_2']\n",
    "\n",
    "# UE_flow_1 代表(往南/東)流量， UE_flow_2 代表(往北/西)流量\n",
    "\n",
    "for group, flows in groups.items():\n",
    "    print(f\"\"\"【{group}】 \n",
    "    UE flow 往南/東 = {round(flows['UE_flow_1'])}, diff = {(flows['UE_flow_1'] - real_flow.loc[group, '南/東']) / real_flow.loc[group, '南/東']* 100:.2f}%\n",
    "    UE flow 往北/西 = {round(flows['UE_flow_2'])}, diff = {(flows['UE_flow_2'] - real_flow.loc[group, '北/西']) / real_flow.loc[group, '北/西']* 100:.2f}%\n",
    "   \"\"\")"
   ]
  },
  {
   "cell_type": "code",
   "execution_count": null,
   "id": "d78e82c3",
   "metadata": {},
   "outputs": [],
   "source": [
    "# sheet1 sorted by group and link\n",
    "sheet1.sort_values(by=['group', 'link'], inplace=True)\n",
    "pd.set_option('display.max_rows', None)\n",
    "sheet1[[\"group\", \"link\", \"UE_flow_1\", \"UE_flow_2\"]]\n",
    "#show all the results in a table"
   ]
  }
 ],
 "metadata": {
  "kernelspec": {
   "display_name": "Python 3",
   "language": "python",
   "name": "python3"
  },
  "language_info": {
   "codemirror_mode": {
    "name": "ipython",
    "version": 3
   },
   "file_extension": ".py",
   "mimetype": "text/x-python",
   "name": "python",
   "nbconvert_exporter": "python",
   "pygments_lexer": "ipython3",
   "version": "3.11.9"
  }
 },
 "nbformat": 4,
 "nbformat_minor": 5
}
