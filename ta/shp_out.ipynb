{
 "cells": [
  {
   "cell_type": "code",
   "execution_count": null,
   "id": "386d69e7",
   "metadata": {},
   "outputs": [],
   "source": [
    "import geopandas as gpd\n",
    "import pandas as pd"
   ]
  },
  {
   "cell_type": "code",
   "execution_count": null,
   "id": "568f9bae",
   "metadata": {},
   "outputs": [],
   "source": [
    "#Y110.shp\n",
    "# if DIR=-1 or 2, add a link from B to A\n",
    "# finally if DIR=-1, eliminate the link\n",
    "\n",
    "gdf = gpd.read_file(\"Y110.shp\")\n",
    "\n",
    "for i, row in gdf.iterrows():\n",
    "    if row['DIR'] == -1 or row['DIR'] == 2:\n",
    "        # Create a new row with the A and B coordinates reversed\n",
    "        new_row = row.copy()\n",
    "        new_row['A'] = row['B']\n",
    "        new_row['B'] = row['A']\n",
    "        if row['DIR'] == -1:\n",
    "            new_row['DIR'] = 1\n",
    "        else:\n",
    "            new_row['DIR'] = 2\n",
    "\n",
    "        # Append the new row to the GeoDataFrame\n",
    "        gdf = gdf.append(new_row, ignore_index=True)\n",
    "\n",
    "# Eliminate the rows where DIR = -1\n",
    "gdf = gdf[gdf['DIR'] != -1]\n",
    "\n",
    "# Save the modified GeoDataFrame to a new shapefile\n",
    "gdf.to_file(\"Y110_modified.shp\", driver='ESRI Shapefile')"
   ]
  },
  {
   "cell_type": "code",
   "execution_count": null,
   "id": "c73cd1e0",
   "metadata": {},
   "outputs": [],
   "source": [
    "ue_results = pd.read_csv(\"UE_results.dat\", sep=\"\\t\")\n",
    "gdf = gpd.read_file(\"Y110_modified_V1.shp\")\n",
    "\n",
    "# Rename columns to match\n",
    "ue_results.rename(columns={\"tailNode\": \"A\", \"headNode\": \"B\"}, inplace=True)\n",
    "\n",
    "# Merge results back into the shapefile\n",
    "gdf = gdf.merge(ue_results[[\"A\", \"B\", \"capacity\", \"UE_travelTime\", \"UE_flow\"]], on=[\"A\", \"B\"], how=\"left\")\n",
    "\n",
    "# Calculate V/C ratio\n",
    "gdf[\"V/C\"] = gdf[\"UE_flow\"] / gdf[\"capacity\"]\n",
    "\n",
    "# Save updated shapefile\n",
    "gdf.to_file(\"UE_results.shp\")"
   ]
  }
 ],
 "metadata": {
  "kernelspec": {
   "display_name": "Python 3",
   "language": "python",
   "name": "python3"
  },
  "language_info": {
   "codemirror_mode": {
    "name": "ipython",
    "version": 3
   },
   "file_extension": ".py",
   "mimetype": "text/x-python",
   "name": "python",
   "nbconvert_exporter": "python",
   "pygments_lexer": "ipython3",
   "version": "3.11.9"
  }
 },
 "nbformat": 4,
 "nbformat_minor": 5
}
