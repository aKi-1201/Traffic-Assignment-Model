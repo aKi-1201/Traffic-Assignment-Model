{
 "cells": [
  {
   "cell_type": "code",
   "execution_count": 1,
   "id": "22ad73ca",
   "metadata": {},
   "outputs": [
    {
     "ename": "FileNotFoundError",
     "evalue": "[Errno 2] No such file or directory: 'TRTS4S_Capacity.csv'",
     "output_type": "error",
     "traceback": [
      "\u001b[1;31m---------------------------------------------------------------------------\u001b[0m",
      "\u001b[1;31mFileNotFoundError\u001b[0m                         Traceback (most recent call last)",
      "Cell \u001b[1;32mIn[1], line 44\u001b[0m\n\u001b[0;32m     41\u001b[0m     \u001b[38;5;66;03m# Save updated shapefile\u001b[39;00m\n\u001b[0;32m     42\u001b[0m     gdf\u001b[38;5;241m.\u001b[39mto_file(\u001b[38;5;124mf\u001b[39m\u001b[38;5;124m\"\u001b[39m\u001b[38;5;132;01m{\u001b[39;00myear\u001b[38;5;132;01m}\u001b[39;00m\u001b[38;5;124m_\u001b[39m\u001b[38;5;132;01m{\u001b[39;00mscenario\u001b[38;5;132;01m}\u001b[39;00m\u001b[38;5;124m_\u001b[39m\u001b[38;5;132;01m{\u001b[39;00mrush_hour\u001b[38;5;132;01m}\u001b[39;00m\u001b[38;5;124m_UE_results.shp\u001b[39m\u001b[38;5;124m\"\u001b[39m)\n\u001b[1;32m---> 44\u001b[0m \u001b[43msavetoShapefile\u001b[49m\u001b[43m(\u001b[49m\u001b[43m)\u001b[49m \n",
      "Cell \u001b[1;32mIn[1], line 20\u001b[0m, in \u001b[0;36msavetoShapefile\u001b[1;34m()\u001b[0m\n\u001b[0;32m     15\u001b[0m cap_dict \u001b[38;5;241m=\u001b[39m {}\n\u001b[0;32m     16\u001b[0m \u001b[38;5;66;03m#input\u001b[39;00m\n\u001b[0;32m     17\u001b[0m \u001b[38;5;66;03m# CLASS,L1,L2,L3,L4,L5,L6\u001b[39;00m\n\u001b[0;32m     18\u001b[0m \u001b[38;5;66;03m# 1, 2300, 4300, 6300, 8300, 10300, 12300\u001b[39;00m\n\u001b[0;32m     19\u001b[0m \u001b[38;5;66;03m#disct: (class,lanes)=capacity eg (39,6)=9420\u001b[39;00m\n\u001b[1;32m---> 20\u001b[0m \u001b[38;5;28;01mwith\u001b[39;00m \u001b[38;5;28;43mopen\u001b[39;49m\u001b[43m(\u001b[49m\u001b[38;5;124;43m'\u001b[39;49m\u001b[38;5;124;43mTRTS4S_Capacity.csv\u001b[39;49m\u001b[38;5;124;43m'\u001b[39;49m\u001b[43m,\u001b[49m\u001b[43m \u001b[49m\u001b[38;5;124;43m'\u001b[39;49m\u001b[38;5;124;43mr\u001b[39;49m\u001b[38;5;124;43m'\u001b[39;49m\u001b[43m)\u001b[49m \u001b[38;5;28;01mas\u001b[39;00m f:\n\u001b[0;32m     21\u001b[0m     lines \u001b[38;5;241m=\u001b[39m f\u001b[38;5;241m.\u001b[39mreadlines()\n\u001b[0;32m     22\u001b[0m     \u001b[38;5;28;01mfor\u001b[39;00m line \u001b[38;5;129;01min\u001b[39;00m lines[\u001b[38;5;241m1\u001b[39m:]:  \u001b[38;5;66;03m# Skip the header line\u001b[39;00m\n",
      "File \u001b[1;32m~\\AppData\\Local\\Packages\\PythonSoftwareFoundation.Python.3.11_qbz5n2kfra8p0\\LocalCache\\local-packages\\Python311\\site-packages\\IPython\\core\\interactiveshell.py:324\u001b[0m, in \u001b[0;36m_modified_open\u001b[1;34m(file, *args, **kwargs)\u001b[0m\n\u001b[0;32m    317\u001b[0m \u001b[38;5;28;01mif\u001b[39;00m file \u001b[38;5;129;01min\u001b[39;00m {\u001b[38;5;241m0\u001b[39m, \u001b[38;5;241m1\u001b[39m, \u001b[38;5;241m2\u001b[39m}:\n\u001b[0;32m    318\u001b[0m     \u001b[38;5;28;01mraise\u001b[39;00m \u001b[38;5;167;01mValueError\u001b[39;00m(\n\u001b[0;32m    319\u001b[0m         \u001b[38;5;124mf\u001b[39m\u001b[38;5;124m\"\u001b[39m\u001b[38;5;124mIPython won\u001b[39m\u001b[38;5;124m'\u001b[39m\u001b[38;5;124mt let you open fd=\u001b[39m\u001b[38;5;132;01m{\u001b[39;00mfile\u001b[38;5;132;01m}\u001b[39;00m\u001b[38;5;124m by default \u001b[39m\u001b[38;5;124m\"\u001b[39m\n\u001b[0;32m    320\u001b[0m         \u001b[38;5;124m\"\u001b[39m\u001b[38;5;124mas it is likely to crash IPython. If you know what you are doing, \u001b[39m\u001b[38;5;124m\"\u001b[39m\n\u001b[0;32m    321\u001b[0m         \u001b[38;5;124m\"\u001b[39m\u001b[38;5;124myou can use builtins\u001b[39m\u001b[38;5;124m'\u001b[39m\u001b[38;5;124m open.\u001b[39m\u001b[38;5;124m\"\u001b[39m\n\u001b[0;32m    322\u001b[0m     )\n\u001b[1;32m--> 324\u001b[0m \u001b[38;5;28;01mreturn\u001b[39;00m \u001b[43mio_open\u001b[49m\u001b[43m(\u001b[49m\u001b[43mfile\u001b[49m\u001b[43m,\u001b[49m\u001b[43m \u001b[49m\u001b[38;5;241;43m*\u001b[39;49m\u001b[43margs\u001b[49m\u001b[43m,\u001b[49m\u001b[43m \u001b[49m\u001b[38;5;241;43m*\u001b[39;49m\u001b[38;5;241;43m*\u001b[39;49m\u001b[43mkwargs\u001b[49m\u001b[43m)\u001b[49m\n",
      "\u001b[1;31mFileNotFoundError\u001b[0m: [Errno 2] No such file or directory: 'TRTS4S_Capacity.csv'"
     ]
    }
   ],
   "source": [
    "\n",
    "year = 104    #110年或104年\n",
    "rush_hour = '晨峰'    #'晨峰'或'昏峰'\n",
    "\n",
    "inputLocation = f\"{year}_現況_{rush_hour}/\"\n",
    "def get_capacity(row):\n",
    "            class_num = row['CLASS_110']\n",
    "            lanes = row['LANES_110']\n",
    "            if (class_num, lanes) in cap_dict:\n",
    "                return cap_dict[(class_num, lanes)]\n",
    "            else:\n",
    "                print(f\"Warning: No capacity found for class {class_num} and lanes {lanes}. Using default value 0.\")\n",
    "                return 0\n",
    "\n",
    "def savetoShapefile():\n",
    "    cap_dict = {}\n",
    "    #input\n",
    "    # CLASS,L1,L2,L3,L4,L5,L6\n",
    "    # 1, 2300, 4300, 6300, 8300, 10300, 12300\n",
    "    #disct: (class,lanes)=capacity eg (39,6)=9420\n",
    "    with open('TRTS4S_Capacity.csv', 'r') as f:\n",
    "        lines = f.readlines()\n",
    "        for line in lines[1:]:  # Skip the header line\n",
    "            parts = line.strip().split(',')\n",
    "            class_num = int(parts[0])\n",
    "            for i in range(1, len(parts)):\n",
    "                lanes = i\n",
    "                capacity = int(parts[i])\n",
    "                cap_dict[(class_num, lanes)] = capacity\n",
    "    ue_results = pd.read_csv(f\"{year}_{scenario}_{rush_hour}_UE_results.dat\", sep=\"\\t\")\n",
    "    gdf = gpd.read_file(f\"Network/Net_modified_{scenario}_{rush_hour}調撥.shp\")\n",
    "    # Rename columns to match\n",
    "    ue_results.rename(columns={\"tailNode\": \"A\", \"headNode\": \"B\"}, inplace=True)\n",
    "    # Merge results back into the shapefile\n",
    "    gdf = gdf.merge(ue_results[[\"A\", \"B\", \"capacity\", \"UE_travelTime\", \"UE_flow\"]], on=[\"A\", \"B\"], how=\"left\")\n",
    "    # Ensure 'capacity' is filled based on the class and lanes\n",
    "    gdf['capacity'] = gdf.apply(get_capacity, axis=1)\n",
    "    # Calculate V/C ratio\n",
    "    gdf[\"V/C\"] = gdf[\"UE_flow\"] / gdf[\"capacity\"]\n",
    "    # Calculate assigned speed\n",
    "    gdf[\"assigned_speed\"] = gdf[\"LENGTH\"] / gdf[\"UE_travelTime\"] * 60 #km/min->km/h\n",
    "    # Save updated shapefile\n",
    "    gdf.to_file(f\"{year}_{scenario}_{rush_hour}_UE_results.shp\")\n",
    "\n",
    "savetoShapefile() "
   ]
  },
  {
   "cell_type": "code",
   "execution_count": null,
   "id": "3aebbc44",
   "metadata": {},
   "outputs": [],
   "source": []
  }
 ],
 "metadata": {
  "kernelspec": {
   "display_name": "Python 3",
   "language": "python",
   "name": "python3"
  },
  "language_info": {
   "codemirror_mode": {
    "name": "ipython",
    "version": 3
   },
   "file_extension": ".py",
   "mimetype": "text/x-python",
   "name": "python",
   "nbconvert_exporter": "python",
   "pygments_lexer": "ipython3",
   "version": "3.11.9"
  }
 },
 "nbformat": 4,
 "nbformat_minor": 5
}
