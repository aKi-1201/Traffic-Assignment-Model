{
 "cells": [
  {
   "cell_type": "code",
   "execution_count": null,
   "id": "c3f57d35",
   "metadata": {},
   "outputs": [],
   "source": [
    "import pandas as pd\n",
    "\n",
    "input_file = 'OD/TRTS4S_Y104晨昏峰小時指派OD_轉向_屏柵.xlsx'\n",
    "output_file = 'no_left_turns.dat'\n",
    "\n",
    "df = pd.read_excel(input_file, sheet_name = '轉向設定')\n",
    "df_out = pd.DataFrame(columns=['A','B','C','set','pen'])\n",
    "df.fillna(0, inplace=True)\n",
    "rows = []\n",
    "\n",
    "for index, row in df.iterrows():\n",
    "    A = row['A']\n",
    "    B = row['B']\n",
    "    C = row['C']\n",
    "    set = row['set']\n",
    "    pen = row['pen']\n",
    "    rows.append({'A': A, 'B': B, 'C': C, 'set': set, 'pen': pen})\n",
    "rows.append({'A': '6378', 'B': '6379', 'C': '6508', 'set': '1', 'pen': '-1'}) # 環河民生路口禁止右轉大稻埕碼頭\n",
    "rows.append({'A': '6378', 'B': '6379', 'C': '6548', 'set': '1', 'pen': '-1'}) # 環河民生路口禁止左轉\n",
    "rows.append({'A': '10244', 'B': '6631', 'C': '6672', 'set': '1', 'pen': '-1'}) # 承德橋汽車右轉專用道\n",
    "rows.append({'A': '10244', 'B': '6631', 'C': '6660', 'set': '1', 'pen': '-1'}) # 承德橋汽車右轉專用道\n",
    "rows.append({'A': '10246', 'B': '6631', 'C': '6672', 'set': '1', 'pen': '-1'}) # 承德橋汽車直行專用道\n",
    "rows.append({'A': '10246', 'B': '6631', 'C': '14036', 'set': '1', 'pen': '-1'}) # 承德橋汽車直行專用道\n",
    "rows.append({'A': '8290', 'B': '8291', 'C': '6629', 'set': '1', 'pen': '-1'}) # 劍潭路禁止左轉中山北路\n",
    "rows.append({'A': '8290', 'B': '8291', 'C': '6629', 'set': '2', 'pen': '-1'}) # 劍潭路禁止左轉中山北路\n",
    "rows.append({'A': '8290', 'B': '8291', 'C': '8341', 'set': '1', 'pen': '-1'}) # 劍潭路禁止左轉中山北路\n",
    "rows.append({'A': '8290', 'B': '8291', 'C': '8341', 'set': '2', 'pen': '-1'}) # 劍潭路禁止左轉中山北路\n",
    "rows.append({'A': '27271', 'B': '6675', 'C': '8291', 'set': '1', 'pen': '-1'}) # 新生高下匝道禁止左轉通河街\n",
    "rows.append({'A': '6680', 'B': '6676', 'C': '27273', 'set': '1', 'pen': '-1'}) # 中山橋花博公園前汽車禁止迴轉\n",
    "rows.append({'A': '6680', 'B': '6676', 'C': '27273', 'set': '2', 'pen': '2'}) # 中山橋花博公園前機車可迴轉\n",
    "rows.append({'A': '6467', 'B': '6504', 'C': '6442', 'set': '1', 'pen': '-1'}) # 市民高環河下橋匝道禁止右轉\n",
    "\n",
    "df_out = pd.DataFrame(rows)\n",
    "df_out.to_csv(output_file, index=False, sep='\\t')"
   ]
  }
 ],
 "metadata": {
  "kernelspec": {
   "display_name": "Python 3",
   "language": "python",
   "name": "python3"
  },
  "language_info": {
   "codemirror_mode": {
    "name": "ipython",
    "version": 3
   },
   "file_extension": ".py",
   "mimetype": "text/x-python",
   "name": "python",
   "nbconvert_exporter": "python",
   "pygments_lexer": "ipython3",
   "version": "3.11.9"
  }
 },
 "nbformat": 4,
 "nbformat_minor": 5
}
