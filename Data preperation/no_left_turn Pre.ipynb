{
 "cells": [
  {
   "cell_type": "code",
   "execution_count": 1,
   "id": "c3f57d35",
   "metadata": {},
   "outputs": [],
   "source": [
    "import pandas as pd\n",
    "\n",
    "input_file = 'OD/TRTS4S_Y104晨昏峰小時指派OD_轉向_屏柵.xlsx'\n",
    "output_file = 'no_left_turns.dat'\n",
    "\n",
    "df = pd.read_excel(input_file, sheet_name = '轉向設定')\n",
    "df_out = pd.DataFrame(columns=['A','B','C','set','pen'])\n",
    "df.fillna(0, inplace=True)\n",
    "rows = []\n",
    "\n",
    "for index, row in df.iterrows():\n",
    "    if row['set'] == 1 and row['pen'] == -1:\n",
    "        A = row['A']\n",
    "        B = row['B']\n",
    "        C = row['C']\n",
    "        rows.append({'A': A, 'B': B, 'C': C})\n",
    "\n",
    "df_out = pd.DataFrame(rows)\n",
    "df_out.to_csv(output_file, index=False, sep='\\t')"
   ]
  }
 ],
 "metadata": {
  "kernelspec": {
   "display_name": "Python 3",
   "language": "python",
   "name": "python3"
  },
  "language_info": {
   "codemirror_mode": {
    "name": "ipython",
    "version": 3
   },
   "file_extension": ".py",
   "mimetype": "text/x-python",
   "name": "python",
   "nbconvert_exporter": "python",
   "pygments_lexer": "ipython3",
   "version": "3.11.9"
  }
 },
 "nbformat": 4,
 "nbformat_minor": 5
}
