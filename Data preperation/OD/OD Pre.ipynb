{
 "cells": [
  {
   "cell_type": "code",
   "execution_count": 17,
   "id": "9f32d2ac",
   "metadata": {},
   "outputs": [],
   "source": [
    "#設定讀取資料的年份與時段\n",
    "\n",
    "y = 104     #110年或104年\n",
    "t = '晨峰'    #晨峰或昏峰"
   ]
  },
  {
   "cell_type": "code",
   "execution_count": 18,
   "id": "e565a6b9",
   "metadata": {},
   "outputs": [
    {
     "name": "stdout",
     "output_type": "stream",
     "text": [
      "104晨峰_demand.csv 已存在，直接轉換為 dat 檔\n"
     ]
    }
   ],
   "source": [
    "#.xls to .csv file\n",
    "\n",
    "import pandas as pd\n",
    "import numpy as np\n",
    "import os\n",
    "\n",
    "\n",
    "if y == 110:\n",
    "    input_file = 'TRTS4S_晨昏峰小時指派OD.xlsx'\n",
    "if y == 104:\n",
    "    input_file = 'TRTS4S_Y104晨昏峰小時指派OD_轉向_屏柵.xlsx'\n",
    "\n",
    "output_file = f'{y}{t}_demand.csv'\n",
    "\n",
    "if os.path.isfile(output_file):\n",
    "    print(f\"{output_file} 已存在，直接轉換為 dat 檔\")\n",
    "else:\n",
    "    df = pd.read_excel(input_file, sheet_name=f'{y}年指派OD{t}小時')\n",
    "    df.fillna(0, inplace=True)\n",
    "    #save as csv\n",
    "    df.to_csv(output_file, index=False, sep=',')\n",
    "    print(f\"Successfully saved {output_file}\")"
   ]
  },
  {
   "cell_type": "code",
   "execution_count": 19,
   "id": "41412b14",
   "metadata": {},
   "outputs": [
    {
     "name": "stdout",
     "output_type": "stream",
     "text": [
      "demand.dat is generating...\n"
     ]
    },
    {
     "name": "stderr",
     "output_type": "stream",
     "text": [
      "100%|██████████| 614656/614656 [00:27<00:00, 22500.65it/s]\n"
     ]
    },
    {
     "name": "stdout",
     "output_type": "stream",
     "text": [
      "demand.dat is generated\n"
     ]
    }
   ],
   "source": [
    "#.csv to .dat file\n",
    "\n",
    "from tqdm import tqdm\n",
    "import pandas as pd\n",
    "import numpy as np\n",
    "\n",
    "df = pd.read_csv(f'{y}{t}_demand.csv')\n",
    "df.fillna(0, inplace=True)\n",
    "rows = []\n",
    "\n",
    "#482-502\n",
    "tamsui = [i for i in range(482,503)]\n",
    "\n",
    "count=0\n",
    "\n",
    "#use tqdm to show the progress for 614656 rows\n",
    "print(\"demand.dat is generating...\")\n",
    "for index, row in tqdm(df.iterrows(), total=len(df)):\n",
    "    origin = row[\"I\"]\n",
    "    dest = row[\"J\"]\n",
    "    moto = row[\"MOTO\"]\n",
    "    car = row[\"ALL\"] - moto\n",
    "    bus = row[\"BUS\"]\n",
    "    if t == '晨峰':\n",
    "        car_demand = car + bus*1.8/19.0\n",
    "    else:\n",
    "        car_demand = car + bus*1.8/20.7\n",
    "    # if origin within 691 and dest within 691, then demand *= 1.5\n",
    "    # if origin <691 and dest <691:\n",
    "        # demand *= 1.25\n",
    "    # if origin in 304-691 or dest in 304-691, then demand *= 1.5\n",
    "    # if origin <= 691 and dest <= 691 and origin >= 304 and dest >= 304:\n",
    "        # demand *= 1.4\n",
    "    # if dest within 303, then demand *= 1.5\n",
    "    # if dest <= 303:\n",
    "    #     demand *= 1\n",
    "    # # if origin in tamsui or dest in tamsui:\n",
    "    # if origin in tamsui:\n",
    "    #     demand *= 1\n",
    "    out_of_cordon=[i for i in range(692,751)]+[783,784]\n",
    "    if origin not in out_of_cordon and dest not in out_of_cordon:\n",
    "        rows.append({'origin':int(origin),'dest':int(dest),'demand':car_demand,'vehType': '1'})\n",
    "        rows.append({'origin':int(origin),'dest':int(dest),'demand':moto,'vehType': '2'})\n",
    "\n",
    "print(\"demand.dat is generated\")\n",
    "df_out = pd.DataFrame(rows)\n",
    "df_out.to_csv(f'{y}{t}_demand.dat', index=False, sep='\\t')"
   ]
  }
 ],
 "metadata": {
  "kernelspec": {
   "display_name": "Python 3",
   "language": "python",
   "name": "python3"
  },
  "language_info": {
   "codemirror_mode": {
    "name": "ipython",
    "version": 3
   },
   "file_extension": ".py",
   "mimetype": "text/x-python",
   "name": "python",
   "nbconvert_exporter": "python",
   "pygments_lexer": "ipython3",
   "version": "3.11.9"
  }
 },
 "nbformat": 4,
 "nbformat_minor": 5
}
