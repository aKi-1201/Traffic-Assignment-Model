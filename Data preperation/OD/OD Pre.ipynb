{
 "cells": [
  {
   "cell_type": "code",
   "execution_count": 6,
   "id": "9f32d2ac",
   "metadata": {},
   "outputs": [],
   "source": [
    "#設定讀取資料的年份與時段\n",
    "\n",
    "y = 104     #110年或104年\n",
    "t = '晨峰'  #晨峰或昏峰\n",
    "case = '內湖轉移'  #內湖轉移或原始"
   ]
  },
  {
   "cell_type": "code",
   "execution_count": 7,
   "id": "e565a6b9",
   "metadata": {},
   "outputs": [
    {
     "name": "stdout",
     "output_type": "stream",
     "text": [
      "104晨峰_demand.csv 已存在，直接轉換為 dat 檔\n"
     ]
    }
   ],
   "source": [
    "#.xls to .csv file\n",
    "\n",
    "import pandas as pd\n",
    "import numpy as np\n",
    "import os\n",
    "\n",
    "\n",
    "if y == 110:\n",
    "    input_file = 'TRTS4S_晨昏峰小時指派OD.xlsx'\n",
    "if y == 104:\n",
    "    input_file = 'TRTS4S_Y104晨昏峰小時指派OD_轉向_屏柵.xlsx'\n",
    "\n",
    "output_file = f'{y}{t}_demand.csv'\n",
    "\n",
    "if os.path.isfile(output_file):\n",
    "    print(f\"{output_file} 已存在，直接轉換為 dat 檔\")\n",
    "else:\n",
    "    df = pd.read_excel(input_file, sheet_name=f'{y}年指派OD{t}小時')\n",
    "    df.fillna(0, inplace=True)\n",
    "    #save as csv\n",
    "    df.to_csv(output_file, index=False, sep=',')\n",
    "    print(f\"Successfully saved {output_file}\")"
   ]
  },
  {
   "cell_type": "code",
   "execution_count": null,
   "id": "41412b14",
   "metadata": {},
   "outputs": [
    {
     "name": "stdout",
     "output_type": "stream",
     "text": [
      "demand.dat is generating...\n"
     ]
    },
    {
     "name": "stderr",
     "output_type": "stream",
     "text": [
      "100%|██████████| 614656/614656 [00:28<00:00, 21798.12it/s]"
     ]
    },
    {
     "name": "stdout",
     "output_type": "stream",
     "text": [
      "Neihu: 12350.420344126218\n"
     ]
    },
    {
     "name": "stderr",
     "output_type": "stream",
     "text": [
      "\n"
     ]
    }
   ],
   "source": [
    "#.csv to .dat file\n",
    "\n",
    "from tqdm import tqdm\n",
    "import pandas as pd\n",
    "import numpy as np\n",
    "\n",
    "df = pd.read_csv(f'{y}{t}_demand.csv')\n",
    "df.fillna(0, inplace=True)\n",
    "rows = []\n",
    "\n",
    "tamsui = [i for i in range(482,503)] #482-502\n",
    "\n",
    "count = 0\n",
    "\n",
    "# Modification for Beitou-Shihlin Technical Park (BSTP)\n",
    "BSTP = [207,209,213]  \n",
    "BSTPNeighbor = [] \n",
    "Neihu = [146,148,149,150,154,155,156,157,158,159]\n",
    "\n",
    "# CASE: 內湖轉移\n",
    "Nsum = 12350.420344126218 # Initialize Anywhere -> Neihu sum\n",
    "NTransfer = 12 # Number of Neihu transfers (35,000 persons)\n",
    "\n",
    "# CASE: 北士科就近吸引\n",
    "BSTPNsum = 0 # Initialize Anywhere -> BSTP sum\n",
    "\n",
    "#use tqdm to show the progress for 614656 rows\n",
    "print(\"demand.dat is generating...\")\n",
    "\n",
    "for index, row in tqdm(df.iterrows(), total=len(df)):\n",
    "    origin = row[\"I\"]\n",
    "    dest = row[\"J\"]\n",
    "    all = row[\"ALL\"]\n",
    "    bus = row[\"BUS\"]\n",
    "    demand = all+bus*1.8/19\n",
    "    # if origin within 691 and dest within 691, then demand *= 1.5\n",
    "    # if origin <691 and dest <691:\n",
    "        # demand *= 1.25\n",
    "    # if origin in 304-691 or dest in 304-691, then demand *= 1.5\n",
    "    # if origin <= 691 and dest <= 691 and origin >= 304 and dest >= 304:\n",
    "        # demand *= 1.4\n",
    "    # if dest within 303, then demand *= 1.5\n",
    "    if dest <= 303:\n",
    "        demand *= 1\n",
    "    # if origin in tamsui or dest in tamsui:\n",
    "    if origin in tamsui:\n",
    "        demand *= 1\n",
    "    out_of_cordon=[i for i in range(692,751)]+[783,784]\n",
    "    if origin not in out_of_cordon and dest not in out_of_cordon:\n",
    "        rows.append({'origin':int(origin),'dest':int(dest),'demand':demand})\n",
    "\n",
    "    if case == '內湖轉移':\n",
    "        if dest in Neihu:\n",
    "            Nsum += demand\n",
    "            \n",
    "\n",
    "print(f'Neihu: {Nsum}')\n",
    "\n",
    "\n",
    "# print(\"demand.dat is generated\")\n",
    "# df_out = pd.DataFrame(rows)\n",
    "# df_out.to_csv(f'{y}{t}_demand({case}).dat', index=False, sep='\\t')\n",
    "# # df_out.to_csv(f'{y}{t}_demand.dat', index=False, sep='\\t')\n",
    "# # df_out.to_csv(f'{y}{t}_demand.dat', index=False, sep='\\t')"
   ]
  },
  {
   "cell_type": "code",
   "execution_count": null,
   "id": "d7db5549",
   "metadata": {},
   "outputs": [],
   "source": []
  }
 ],
 "metadata": {
  "kernelspec": {
   "display_name": "Python 3",
   "language": "python",
   "name": "python3"
  },
  "language_info": {
   "codemirror_mode": {
    "name": "ipython",
    "version": 3
   },
   "file_extension": ".py",
   "mimetype": "text/x-python",
   "name": "python",
   "nbconvert_exporter": "python",
   "pygments_lexer": "ipython3",
   "version": "3.12.10"
  }
 },
 "nbformat": 4,
 "nbformat_minor": 5
}
